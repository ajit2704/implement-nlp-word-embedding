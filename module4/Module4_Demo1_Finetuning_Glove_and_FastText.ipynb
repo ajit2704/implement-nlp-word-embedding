{
  "nbformat": 4,
  "nbformat_minor": 0,
  "metadata": {
    "colab": {
      "name": "Module4_Demo1_Finetuning_Glove_and_FastText.ipynb",
      "provenance": [],
      "collapsed_sections": [],
      "machine_shape": "hm",
      "authorship_tag": "ABX9TyOwTePWaPlW4WojvGJWXzrQ",
      "include_colab_link": true
    },
    "kernelspec": {
      "name": "python3",
      "display_name": "Python 3"
    },
    "language_info": {
      "name": "python"
    },
    "accelerator": "GPU"
  },
  "cells": [
    {
      "cell_type": "markdown",
      "metadata": {
        "id": "view-in-github",
        "colab_type": "text"
      },
      "source": [
        "<a href=\"https://colab.research.google.com/github/axel-sirota/implement-nlp-word-embedding/blob/main/module4/Module4_Demo1_Finetuning_Glove_and_FastText.ipynb\" target=\"_parent\"><img src=\"https://colab.research.google.com/assets/colab-badge.svg\" alt=\"Open In Colab\"/></a>"
      ]
    },
    {
      "cell_type": "code",
      "execution_count": 1,
      "metadata": {
        "id": "DbtdcQV69eFR",
        "colab": {
          "base_uri": "https://localhost:8080/"
        },
        "outputId": "24677677-fb95-4754-dc07-3e51fe591805"
      },
      "outputs": [
        {
          "output_type": "stream",
          "name": "stdout",
          "text": [
            "Looking in indexes: https://pypi.org/simple, https://us-python.pkg.dev/colab-wheels/public/simple/\n",
            "Requirement already satisfied: gensim in /usr/local/lib/python3.7/dist-packages (4.2.0)\n",
            "Requirement already satisfied: numpy>=1.17.0 in /usr/local/lib/python3.7/dist-packages (from gensim) (1.21.6)\n",
            "Requirement already satisfied: scipy>=0.18.1 in /usr/local/lib/python3.7/dist-packages (from gensim) (1.4.1)\n",
            "Requirement already satisfied: smart-open>=1.8.1 in /usr/local/lib/python3.7/dist-packages (from gensim) (6.0.0)\n"
          ]
        }
      ],
      "source": [
        "!pip install -U gensim"
      ]
    },
    {
      "cell_type": "code",
      "source": [
        "!nvidia-smi"
      ],
      "metadata": {
        "id": "UT1mEqoXAYvY",
        "colab": {
          "base_uri": "https://localhost:8080/"
        },
        "outputId": "48f1ba1d-053e-486c-8615-fdf303812b73"
      },
      "execution_count": 2,
      "outputs": [
        {
          "output_type": "stream",
          "name": "stdout",
          "text": [
            "Thu May 26 20:15:04 2022       \n",
            "+-----------------------------------------------------------------------------+\n",
            "| NVIDIA-SMI 460.32.03    Driver Version: 460.32.03    CUDA Version: 11.2     |\n",
            "|-------------------------------+----------------------+----------------------+\n",
            "| GPU  Name        Persistence-M| Bus-Id        Disp.A | Volatile Uncorr. ECC |\n",
            "| Fan  Temp  Perf  Pwr:Usage/Cap|         Memory-Usage | GPU-Util  Compute M. |\n",
            "|                               |                      |               MIG M. |\n",
            "|===============================+======================+======================|\n",
            "|   0  Tesla V100-SXM2...  Off  | 00000000:00:04.0 Off |                    0 |\n",
            "| N/A   36C    P0    24W / 300W |      0MiB / 16160MiB |      0%      Default |\n",
            "|                               |                      |                  N/A |\n",
            "+-------------------------------+----------------------+----------------------+\n",
            "                                                                               \n",
            "+-----------------------------------------------------------------------------+\n",
            "| Processes:                                                                  |\n",
            "|  GPU   GI   CI        PID   Type   Process name                  GPU Memory |\n",
            "|        ID   ID                                                   Usage      |\n",
            "|=============================================================================|\n",
            "|  No running processes found                                                 |\n",
            "+-----------------------------------------------------------------------------+\n"
          ]
        }
      ]
    },
    {
      "cell_type": "markdown",
      "source": [
        "# Analysing Sentiment"
      ],
      "metadata": {
        "id": "QlJeKdJfTPMp"
      }
    },
    {
      "cell_type": "markdown",
      "source": [
        "Let's first import everything and load the dataset"
      ],
      "metadata": {
        "id": "epE01e6NbbMg"
      }
    },
    {
      "cell_type": "code",
      "execution_count": 3,
      "metadata": {
        "id": "ri00gAaqSzrq",
        "colab": {
          "base_uri": "https://localhost:8080/"
        },
        "outputId": "d80836ba-06c9-430e-b6dc-375084d0b8f2"
      },
      "outputs": [
        {
          "output_type": "stream",
          "name": "stdout",
          "text": [
            "[nltk_data] Downloading package punkt to /root/nltk_data...\n",
            "[nltk_data]   Package punkt is already up-to-date!\n"
          ]
        }
      ],
      "source": [
        "import pandas as pd\n",
        "import numpy as np\n",
        "from sklearn.model_selection import train_test_split\n",
        "\n",
        "from sklearn.feature_extraction.text import CountVectorizer, TfidfVectorizer\n",
        "from textblob import TextBlob, Word\n",
        "import nltk\n",
        "import torch\n",
        "from torch import nn\n",
        "import seaborn as sns\n",
        "nltk.download('punkt')\n",
        "\n",
        "%matplotlib inline\n",
        "sns.set(rc={'figure.figsize':(20,20)})\n",
        "import warnings\n",
        "warnings.filterwarnings('ignore')\n",
        "device = torch.device(\"cuda\" if torch.cuda.is_available() else \"cpu\")"
      ]
    },
    {
      "cell_type": "code",
      "source": [
        "%%writefile get_data.sh\n",
        "if [ ! -f yelp.csv ]; then\n",
        "  wget -O yelp.csv https://raw.githubusercontent.com/axel-sirota/implement-nlp-word-embedding/main/module3/data/yelp.csv\n",
        "fi\n",
        "if [ ! -f glove.6B.zip ]; then\n",
        "  wget -O glove.6B.zip https://nlp.stanford.edu/data/glove.6B.zip\n",
        "  unzip glove.6B.zip\n",
        "fi\n",
        "if [ ! -f cc.en.300.bin ]; then\n",
        "  wget -O cc.en.300.bin.gz https://dl.fbaipublicfiles.com/fasttext/vectors-crawl/cc.en.300.bin.gz\n",
        "  gzip -d cc.en.300.bin.gz\n",
        "  cp cc.en.300.bin /usr/local/lib/python3.7/dist-packages/gensim/test/test_data\n",
        "fi\n",
        "ls"
      ],
      "metadata": {
        "id": "aHuUsDMlTXhM",
        "colab": {
          "base_uri": "https://localhost:8080/"
        },
        "outputId": "eb665f8b-d40a-4a49-fb4e-4277c09058fb"
      },
      "execution_count": 4,
      "outputs": [
        {
          "output_type": "stream",
          "name": "stdout",
          "text": [
            "Overwriting get_data.sh\n"
          ]
        }
      ]
    },
    {
      "cell_type": "code",
      "source": [
        "!bash get_data.sh\n"
      ],
      "metadata": {
        "id": "Uq4-oO3KTnbQ",
        "colab": {
          "base_uri": "https://localhost:8080/"
        },
        "outputId": "b5d5c9f0-fcd2-4f54-8b03-54d6c89d2696"
      },
      "execution_count": 5,
      "outputs": [
        {
          "output_type": "stream",
          "name": "stdout",
          "text": [
            "cc.en.300.bin\t\t glove.6B.100d.txt  glove.6B.50d.txt  yelp.csv\n",
            "emb_word2vec_format.txt  glove.6B.200d.txt  glove.6B.zip\n",
            "get_data.sh\t\t glove.6B.300d.txt  sample_data\n"
          ]
        }
      ]
    },
    {
      "cell_type": "code",
      "source": [
        "CORPUS_SIZE = 100000\n",
        "EMBEDDING_DIM = 300\n",
        "path = 'yelp.csv'\n",
        "yelp = pd.read_csv(path)\n",
        "# Create a new DataFrame that only contains the 5-star and 1-star reviews.\n",
        "yelp_best_worst = yelp[(yelp.stars==5) | (yelp.stars==1)].reset_index(drop=True)[:CORPUS_SIZE]\n",
        "yelp_best_worst\n"
      ],
      "metadata": {
        "id": "i32aK_G6TZl9",
        "colab": {
          "base_uri": "https://localhost:8080/",
          "height": 1000
        },
        "outputId": "cc2e42d0-c960-499a-a03f-6039ebf59240"
      },
      "execution_count": 6,
      "outputs": [
        {
          "output_type": "execute_result",
          "data": {
            "text/plain": [
              "                business_id        date               review_id  stars  \\\n",
              "0    9yKzy9PApeiPPOUJEtnvkg  2011-01-26  fWKvX83p0-ka4JS3dc6E5A      5   \n",
              "1    ZRJwVLyzEJq1VAihDhYiow  2011-07-27  IjZ33sJrzXqU-0X6U8NwyA      5   \n",
              "2    _1QQZuf4zZOyFCvXc0o6Vg  2010-05-27  G-WvGaISbqqaMHlNnByodA      5   \n",
              "3    6ozycU1RpktNG2-1BroVtw  2012-01-05  1uJFq2r5QfJG_6ExMRCaGw      5   \n",
              "4    zp713qNhx8d9KCJJnrw1xA  2010-02-12  riFQ3vxNpP4rWLk_CSri2A      5   \n",
              "..                      ...         ...                     ...    ...   \n",
              "495  ScvhAJe5lIJ7_SIvNTDfgg  2012-08-24  OT9779o629UEC8gmI8Fa4g      5   \n",
              "496  YSesarsmfOIKwx6eiRqFZQ  2009-04-30  x6b0jru4OlUzfzeoNxvZEg      5   \n",
              "497  5nahZe5bBYUbFWgEfwoNOA  2011-03-28  n-MKaPksVzxBoTlda0gYzA      5   \n",
              "498  gUt-pPUpOVVhaCFC8-E4yQ  2009-01-21  fZ6ktQYONjrOcK4SjTxS8w      5   \n",
              "499  lXUaypwLG_rIU4qnpBmF-A  2012-08-31  vz4xCCersFRfDXl2qhvAWA      5   \n",
              "\n",
              "                                                  text    type  \\\n",
              "0    My wife took me here on my birthday for breakf...  review   \n",
              "1    I have no idea why some people give bad review...  review   \n",
              "2    Rosie, Dakota, and I LOVE Chaparral Dog Park!!...  review   \n",
              "3    General Manager Scott Petello is a good egg!!!...  review   \n",
              "4    Drop what you're doing and drive here. After I...  review   \n",
              "..                                                 ...     ...   \n",
              "495  So yummy!! My favorite Mexican place!! Love th...  review   \n",
              "496  I have been taking vehicles to this place for ...  review   \n",
              "497  Thank you Sunflower for having a decent select...  review   \n",
              "498  Private Karaoke at Geisha A Go Go is the coole...  review   \n",
              "499  Yes, it's on the Northwest side and its tucked...  review   \n",
              "\n",
              "                    user_id  cool  useful  funny  \n",
              "0    rLtl8ZkDX5vH5nAx9C3q5Q     2       5      0  \n",
              "1    0a2KyEL0d3Yb1V6aivbIuQ     0       0      0  \n",
              "2    uZetl9T0NcROGOyFfughhg     1       2      0  \n",
              "3    vYmM4KTsC8ZfQBg-j5MWkw     0       0      0  \n",
              "4    wFweIWhv2fREZV_dYkz_1g     7       7      4  \n",
              "..                      ...   ...     ...    ...  \n",
              "495  I7zvmDRYtsLUHsLi50wDNA     1       1      0  \n",
              "496  1f8_7NDng8w5CV7bshe63A     0       1      0  \n",
              "497  BfetZm9fa0zqyAFn8vo_6w     0       0      0  \n",
              "498  8gM0VBG-5vlS7teGszclKQ     2       2      1  \n",
              "499  uBp2Jmip2qXQ0iWHUDY9sQ     3       3      2  \n",
              "\n",
              "[500 rows x 10 columns]"
            ],
            "text/html": [
              "\n",
              "  <div id=\"df-b8e3bf2b-caff-40f8-b1e5-15e2b58df54a\">\n",
              "    <div class=\"colab-df-container\">\n",
              "      <div>\n",
              "<style scoped>\n",
              "    .dataframe tbody tr th:only-of-type {\n",
              "        vertical-align: middle;\n",
              "    }\n",
              "\n",
              "    .dataframe tbody tr th {\n",
              "        vertical-align: top;\n",
              "    }\n",
              "\n",
              "    .dataframe thead th {\n",
              "        text-align: right;\n",
              "    }\n",
              "</style>\n",
              "<table border=\"1\" class=\"dataframe\">\n",
              "  <thead>\n",
              "    <tr style=\"text-align: right;\">\n",
              "      <th></th>\n",
              "      <th>business_id</th>\n",
              "      <th>date</th>\n",
              "      <th>review_id</th>\n",
              "      <th>stars</th>\n",
              "      <th>text</th>\n",
              "      <th>type</th>\n",
              "      <th>user_id</th>\n",
              "      <th>cool</th>\n",
              "      <th>useful</th>\n",
              "      <th>funny</th>\n",
              "    </tr>\n",
              "  </thead>\n",
              "  <tbody>\n",
              "    <tr>\n",
              "      <th>0</th>\n",
              "      <td>9yKzy9PApeiPPOUJEtnvkg</td>\n",
              "      <td>2011-01-26</td>\n",
              "      <td>fWKvX83p0-ka4JS3dc6E5A</td>\n",
              "      <td>5</td>\n",
              "      <td>My wife took me here on my birthday for breakf...</td>\n",
              "      <td>review</td>\n",
              "      <td>rLtl8ZkDX5vH5nAx9C3q5Q</td>\n",
              "      <td>2</td>\n",
              "      <td>5</td>\n",
              "      <td>0</td>\n",
              "    </tr>\n",
              "    <tr>\n",
              "      <th>1</th>\n",
              "      <td>ZRJwVLyzEJq1VAihDhYiow</td>\n",
              "      <td>2011-07-27</td>\n",
              "      <td>IjZ33sJrzXqU-0X6U8NwyA</td>\n",
              "      <td>5</td>\n",
              "      <td>I have no idea why some people give bad review...</td>\n",
              "      <td>review</td>\n",
              "      <td>0a2KyEL0d3Yb1V6aivbIuQ</td>\n",
              "      <td>0</td>\n",
              "      <td>0</td>\n",
              "      <td>0</td>\n",
              "    </tr>\n",
              "    <tr>\n",
              "      <th>2</th>\n",
              "      <td>_1QQZuf4zZOyFCvXc0o6Vg</td>\n",
              "      <td>2010-05-27</td>\n",
              "      <td>G-WvGaISbqqaMHlNnByodA</td>\n",
              "      <td>5</td>\n",
              "      <td>Rosie, Dakota, and I LOVE Chaparral Dog Park!!...</td>\n",
              "      <td>review</td>\n",
              "      <td>uZetl9T0NcROGOyFfughhg</td>\n",
              "      <td>1</td>\n",
              "      <td>2</td>\n",
              "      <td>0</td>\n",
              "    </tr>\n",
              "    <tr>\n",
              "      <th>3</th>\n",
              "      <td>6ozycU1RpktNG2-1BroVtw</td>\n",
              "      <td>2012-01-05</td>\n",
              "      <td>1uJFq2r5QfJG_6ExMRCaGw</td>\n",
              "      <td>5</td>\n",
              "      <td>General Manager Scott Petello is a good egg!!!...</td>\n",
              "      <td>review</td>\n",
              "      <td>vYmM4KTsC8ZfQBg-j5MWkw</td>\n",
              "      <td>0</td>\n",
              "      <td>0</td>\n",
              "      <td>0</td>\n",
              "    </tr>\n",
              "    <tr>\n",
              "      <th>4</th>\n",
              "      <td>zp713qNhx8d9KCJJnrw1xA</td>\n",
              "      <td>2010-02-12</td>\n",
              "      <td>riFQ3vxNpP4rWLk_CSri2A</td>\n",
              "      <td>5</td>\n",
              "      <td>Drop what you're doing and drive here. After I...</td>\n",
              "      <td>review</td>\n",
              "      <td>wFweIWhv2fREZV_dYkz_1g</td>\n",
              "      <td>7</td>\n",
              "      <td>7</td>\n",
              "      <td>4</td>\n",
              "    </tr>\n",
              "    <tr>\n",
              "      <th>...</th>\n",
              "      <td>...</td>\n",
              "      <td>...</td>\n",
              "      <td>...</td>\n",
              "      <td>...</td>\n",
              "      <td>...</td>\n",
              "      <td>...</td>\n",
              "      <td>...</td>\n",
              "      <td>...</td>\n",
              "      <td>...</td>\n",
              "      <td>...</td>\n",
              "    </tr>\n",
              "    <tr>\n",
              "      <th>495</th>\n",
              "      <td>ScvhAJe5lIJ7_SIvNTDfgg</td>\n",
              "      <td>2012-08-24</td>\n",
              "      <td>OT9779o629UEC8gmI8Fa4g</td>\n",
              "      <td>5</td>\n",
              "      <td>So yummy!! My favorite Mexican place!! Love th...</td>\n",
              "      <td>review</td>\n",
              "      <td>I7zvmDRYtsLUHsLi50wDNA</td>\n",
              "      <td>1</td>\n",
              "      <td>1</td>\n",
              "      <td>0</td>\n",
              "    </tr>\n",
              "    <tr>\n",
              "      <th>496</th>\n",
              "      <td>YSesarsmfOIKwx6eiRqFZQ</td>\n",
              "      <td>2009-04-30</td>\n",
              "      <td>x6b0jru4OlUzfzeoNxvZEg</td>\n",
              "      <td>5</td>\n",
              "      <td>I have been taking vehicles to this place for ...</td>\n",
              "      <td>review</td>\n",
              "      <td>1f8_7NDng8w5CV7bshe63A</td>\n",
              "      <td>0</td>\n",
              "      <td>1</td>\n",
              "      <td>0</td>\n",
              "    </tr>\n",
              "    <tr>\n",
              "      <th>497</th>\n",
              "      <td>5nahZe5bBYUbFWgEfwoNOA</td>\n",
              "      <td>2011-03-28</td>\n",
              "      <td>n-MKaPksVzxBoTlda0gYzA</td>\n",
              "      <td>5</td>\n",
              "      <td>Thank you Sunflower for having a decent select...</td>\n",
              "      <td>review</td>\n",
              "      <td>BfetZm9fa0zqyAFn8vo_6w</td>\n",
              "      <td>0</td>\n",
              "      <td>0</td>\n",
              "      <td>0</td>\n",
              "    </tr>\n",
              "    <tr>\n",
              "      <th>498</th>\n",
              "      <td>gUt-pPUpOVVhaCFC8-E4yQ</td>\n",
              "      <td>2009-01-21</td>\n",
              "      <td>fZ6ktQYONjrOcK4SjTxS8w</td>\n",
              "      <td>5</td>\n",
              "      <td>Private Karaoke at Geisha A Go Go is the coole...</td>\n",
              "      <td>review</td>\n",
              "      <td>8gM0VBG-5vlS7teGszclKQ</td>\n",
              "      <td>2</td>\n",
              "      <td>2</td>\n",
              "      <td>1</td>\n",
              "    </tr>\n",
              "    <tr>\n",
              "      <th>499</th>\n",
              "      <td>lXUaypwLG_rIU4qnpBmF-A</td>\n",
              "      <td>2012-08-31</td>\n",
              "      <td>vz4xCCersFRfDXl2qhvAWA</td>\n",
              "      <td>5</td>\n",
              "      <td>Yes, it's on the Northwest side and its tucked...</td>\n",
              "      <td>review</td>\n",
              "      <td>uBp2Jmip2qXQ0iWHUDY9sQ</td>\n",
              "      <td>3</td>\n",
              "      <td>3</td>\n",
              "      <td>2</td>\n",
              "    </tr>\n",
              "  </tbody>\n",
              "</table>\n",
              "<p>500 rows × 10 columns</p>\n",
              "</div>\n",
              "      <button class=\"colab-df-convert\" onclick=\"convertToInteractive('df-b8e3bf2b-caff-40f8-b1e5-15e2b58df54a')\"\n",
              "              title=\"Convert this dataframe to an interactive table.\"\n",
              "              style=\"display:none;\">\n",
              "        \n",
              "  <svg xmlns=\"http://www.w3.org/2000/svg\" height=\"24px\"viewBox=\"0 0 24 24\"\n",
              "       width=\"24px\">\n",
              "    <path d=\"M0 0h24v24H0V0z\" fill=\"none\"/>\n",
              "    <path d=\"M18.56 5.44l.94 2.06.94-2.06 2.06-.94-2.06-.94-.94-2.06-.94 2.06-2.06.94zm-11 1L8.5 8.5l.94-2.06 2.06-.94-2.06-.94L8.5 2.5l-.94 2.06-2.06.94zm10 10l.94 2.06.94-2.06 2.06-.94-2.06-.94-.94-2.06-.94 2.06-2.06.94z\"/><path d=\"M17.41 7.96l-1.37-1.37c-.4-.4-.92-.59-1.43-.59-.52 0-1.04.2-1.43.59L10.3 9.45l-7.72 7.72c-.78.78-.78 2.05 0 2.83L4 21.41c.39.39.9.59 1.41.59.51 0 1.02-.2 1.41-.59l7.78-7.78 2.81-2.81c.8-.78.8-2.07 0-2.86zM5.41 20L4 18.59l7.72-7.72 1.47 1.35L5.41 20z\"/>\n",
              "  </svg>\n",
              "      </button>\n",
              "      \n",
              "  <style>\n",
              "    .colab-df-container {\n",
              "      display:flex;\n",
              "      flex-wrap:wrap;\n",
              "      gap: 12px;\n",
              "    }\n",
              "\n",
              "    .colab-df-convert {\n",
              "      background-color: #E8F0FE;\n",
              "      border: none;\n",
              "      border-radius: 50%;\n",
              "      cursor: pointer;\n",
              "      display: none;\n",
              "      fill: #1967D2;\n",
              "      height: 32px;\n",
              "      padding: 0 0 0 0;\n",
              "      width: 32px;\n",
              "    }\n",
              "\n",
              "    .colab-df-convert:hover {\n",
              "      background-color: #E2EBFA;\n",
              "      box-shadow: 0px 1px 2px rgba(60, 64, 67, 0.3), 0px 1px 3px 1px rgba(60, 64, 67, 0.15);\n",
              "      fill: #174EA6;\n",
              "    }\n",
              "\n",
              "    [theme=dark] .colab-df-convert {\n",
              "      background-color: #3B4455;\n",
              "      fill: #D2E3FC;\n",
              "    }\n",
              "\n",
              "    [theme=dark] .colab-df-convert:hover {\n",
              "      background-color: #434B5C;\n",
              "      box-shadow: 0px 1px 3px 1px rgba(0, 0, 0, 0.15);\n",
              "      filter: drop-shadow(0px 1px 2px rgba(0, 0, 0, 0.3));\n",
              "      fill: #FFFFFF;\n",
              "    }\n",
              "  </style>\n",
              "\n",
              "      <script>\n",
              "        const buttonEl =\n",
              "          document.querySelector('#df-b8e3bf2b-caff-40f8-b1e5-15e2b58df54a button.colab-df-convert');\n",
              "        buttonEl.style.display =\n",
              "          google.colab.kernel.accessAllowed ? 'block' : 'none';\n",
              "\n",
              "        async function convertToInteractive(key) {\n",
              "          const element = document.querySelector('#df-b8e3bf2b-caff-40f8-b1e5-15e2b58df54a');\n",
              "          const dataTable =\n",
              "            await google.colab.kernel.invokeFunction('convertToInteractive',\n",
              "                                                     [key], {});\n",
              "          if (!dataTable) return;\n",
              "\n",
              "          const docLinkHtml = 'Like what you see? Visit the ' +\n",
              "            '<a target=\"_blank\" href=https://colab.research.google.com/notebooks/data_table.ipynb>data table notebook</a>'\n",
              "            + ' to learn more about interactive tables.';\n",
              "          element.innerHTML = '';\n",
              "          dataTable['output_type'] = 'display_data';\n",
              "          await google.colab.output.renderOutput(dataTable, element);\n",
              "          const docLink = document.createElement('div');\n",
              "          docLink.innerHTML = docLinkHtml;\n",
              "          element.appendChild(docLink);\n",
              "        }\n",
              "      </script>\n",
              "    </div>\n",
              "  </div>\n",
              "  "
            ]
          },
          "metadata": {},
          "execution_count": 6
        }
      ]
    },
    {
      "cell_type": "code",
      "source": [
        ""
      ],
      "metadata": {
        "id": "cuSeG7h_rdS9"
      },
      "execution_count": 6,
      "outputs": []
    },
    {
      "cell_type": "markdown",
      "source": [
        "## Load GloVe weights and model"
      ],
      "metadata": {
        "id": "quWimVZjbemw"
      }
    },
    {
      "cell_type": "code",
      "source": [
        "torch.cuda.empty_cache()"
      ],
      "metadata": {
        "id": "uxvP2dj5AgUN"
      },
      "execution_count": 7,
      "outputs": []
    },
    {
      "cell_type": "code",
      "source": [
        "# convert glove to word2vec format\n",
        "from gensim.scripts.glove2word2vec import glove2word2vec\n",
        "glove2word2vec(glove_input_file=\"glove.6B.300d.txt\", word2vec_output_file=\"emb_word2vec_format.txt\")"
      ],
      "metadata": {
        "id": "Z1Y4qfl5XQLL",
        "colab": {
          "base_uri": "https://localhost:8080/"
        },
        "outputId": "2a4eaaab-bd9d-45b2-f6eb-20086f257ed9"
      },
      "execution_count": 8,
      "outputs": [
        {
          "output_type": "execute_result",
          "data": {
            "text/plain": [
              "(400000, 300)"
            ]
          },
          "metadata": {},
          "execution_count": 8
        }
      ]
    },
    {
      "cell_type": "code",
      "source": [
        "import gensim\n",
        "import torch\n",
        "word2vec_model = gensim.models.KeyedVectors.load_word2vec_format('emb_word2vec_format.txt')"
      ],
      "metadata": {
        "id": "-SY_DY9AtoMA"
      },
      "execution_count": 9,
      "outputs": []
    },
    {
      "cell_type": "code",
      "source": [
        "weights_glove = torch.FloatTensor(word2vec_model.vectors).to(device)\n",
        "tokenizer = lambda x: TextBlob(x).words"
      ],
      "metadata": {
        "id": "kOQPl_KitqhO"
      },
      "execution_count": 10,
      "outputs": []
    },
    {
      "cell_type": "markdown",
      "source": [
        "## Load FastText vectors"
      ],
      "metadata": {
        "id": "vk99irpqBlTk"
      }
    },
    {
      "cell_type": "code",
      "source": [
        "from gensim.models import fasttext\n",
        "from gensim.test.utils import datapath\n",
        "\n",
        "fasttext_model = fasttext.load_facebook_vectors(datapath(\"cc.en.300.bin\"))"
      ],
      "metadata": {
        "id": "pvxIb_-IBfyE"
      },
      "execution_count": 11,
      "outputs": []
    },
    {
      "cell_type": "code",
      "source": [
        "weights_fasttext= torch.FloatTensor(fasttext_model.vectors).to(device)"
      ],
      "metadata": {
        "id": "kOFo8D4vEZZ-"
      },
      "execution_count": 12,
      "outputs": []
    },
    {
      "cell_type": "code",
      "source": [
        "weights_glove.shape, weights_fasttext.shape"
      ],
      "metadata": {
        "id": "UdES-6RV6pyZ",
        "colab": {
          "base_uri": "https://localhost:8080/"
        },
        "outputId": "7d450809-0f0c-422e-bd60-1c1bd6e84905"
      },
      "execution_count": 13,
      "outputs": [
        {
          "output_type": "execute_result",
          "data": {
            "text/plain": [
              "(torch.Size([400000, 300]), torch.Size([2000000, 300]))"
            ]
          },
          "metadata": {},
          "execution_count": 13
        }
      ]
    },
    {
      "cell_type": "code",
      "source": [
        "vocab_size_glove = len(word2vec_model.index_to_key)\n",
        "vocab_size_fasttext = len(fasttext_model.index_to_key)"
      ],
      "metadata": {
        "id": "yGJEBGk56svm"
      },
      "execution_count": 14,
      "outputs": []
    },
    {
      "cell_type": "code",
      "source": [
        "vocab_size_glove, vocab_size_fasttext"
      ],
      "metadata": {
        "id": "mreSGcbWEcfS",
        "colab": {
          "base_uri": "https://localhost:8080/"
        },
        "outputId": "926619d1-8572-41d8-e421-5f31dfb8a5b6"
      },
      "execution_count": 15,
      "outputs": [
        {
          "output_type": "execute_result",
          "data": {
            "text/plain": [
              "(400000, 2000000)"
            ]
          },
          "metadata": {},
          "execution_count": 15
        }
      ]
    },
    {
      "cell_type": "code",
      "source": [
        "def get_maximum_review_length(df):\n",
        "  maximum = 0\n",
        "  for ix, row in df.iterrows():\n",
        "    candidate = len(tokenizer(row.text))\n",
        "    if candidate > maximum:\n",
        "      maximum = candidate\n",
        "  return maximum"
      ],
      "metadata": {
        "id": "fur6thLd5x7z"
      },
      "execution_count": 16,
      "outputs": []
    },
    {
      "cell_type": "code",
      "source": [
        "def get_train_test_split_by_embedding(embedding, df):\n",
        "  maximum = get_maximum_review_length(df)\n",
        "  X_pre_split = torch.zeros(len(df), maximum).type(torch.LongTensor).to(device)\n",
        "  for index, row in df.iterrows():\n",
        "    ix = 0\n",
        "    for word in tokenizer(row.text):\n",
        "      if word not in embedding:\n",
        "        representation = 0\n",
        "      else:\n",
        "        representation = embedding.index_to_key.index(word)\n",
        "      X_pre_split[index, ix] = representation\n",
        "      ix += 1\n",
        "  X = X_pre_split\n",
        "  y = yelp_best_worst.stars.map({1:0, 5:1})\n",
        "  X_train, X_test, y_train, y_test = train_test_split(X, y, test_size = 0.2, random_state=42)\n",
        "  y_train = torch.Tensor(y_train.values).type(torch.LongTensor).to(device)\n",
        "  y_test = torch.Tensor(y_test.values).type(torch.LongTensor).to(device)\n",
        "  return X_train, X_test, y_train, y_test"
      ],
      "metadata": {
        "id": "aDNamr775m-i"
      },
      "execution_count": 17,
      "outputs": []
    },
    {
      "cell_type": "code",
      "source": [
        "X_train, X_test, y_train, y_test = get_train_test_split_by_embedding(word2vec_model, yelp_best_worst)"
      ],
      "metadata": {
        "id": "yceeDHLRXSZO"
      },
      "execution_count": 18,
      "outputs": []
    },
    {
      "cell_type": "code",
      "source": [
        "class SentimentPretrained(nn.Module):\n",
        "    def __init__(self, embedding_dim, weights):\n",
        "        super(SentimentPretrained, self).__init__()\n",
        "\n",
        "        #out: 1 x emdedding_dim\n",
        "        self.embeddings = nn.Embedding.from_pretrained(weights, freeze=False)\n",
        "        self.linear = nn.Linear(embedding_dim, 2)\n",
        "        self.activation_function = nn.LogSoftmax(dim = -1)\n",
        "        \n",
        "\n",
        "    def forward(self, inputs):\n",
        "        embeds = torch.sum(self.embeddings(inputs), dim=1).squeeze()\n",
        "        out = self.linear(embeds.float())\n",
        "        out = self.activation_function(out)\n",
        "        return out"
      ],
      "metadata": {
        "id": "Ip1U599PVXrg"
      },
      "execution_count": 19,
      "outputs": []
    },
    {
      "cell_type": "code",
      "source": [
        "def loss(y_pred, y):\n",
        "  return nn.functional.nll_loss(y_pred, y)\n",
        "\n",
        "def metric(y_pred, y):  # -> accuracy\n",
        "  return (1 / len(y)) * ((y_pred.argmax(dim = 1) == y).sum())"
      ],
      "metadata": {
        "id": "MJTox5Yk7gaE"
      },
      "execution_count": 20,
      "outputs": []
    },
    {
      "cell_type": "markdown",
      "source": [
        "## Let's verify the metric makes sense"
      ],
      "metadata": {
        "id": "KMQJasS-YOpF"
      }
    },
    {
      "cell_type": "code",
      "source": [
        "X_train[5]"
      ],
      "metadata": {
        "id": "uGOjWlsW1dEo",
        "colab": {
          "base_uri": "https://localhost:8080/"
        },
        "outputId": "1a119028-5eda-4811-b29f-e3312f3cf15a"
      },
      "execution_count": 21,
      "outputs": [
        {
          "output_type": "execute_result",
          "data": {
            "text/plain": [
              "tensor([    0,  1409,  1290,  2821,   285,   197,   219,    44, 22078,    32,\n",
              "            0,   977,    20,    34,    20,   119,    70,    88,  1096,    10,\n",
              "          285,     0, 12611, 20890,   117,   645,    81,    86,   169,    22,\n",
              "            0,    34,  1495,     0,   626,     0,   134,   175,     7,     0,\n",
              "            3,     0,     0,     0,   287,     0,   565,     4,  4374,   117,\n",
              "           36,   120,   130,  4018, 12611,     0,     0,    40,     0,  5795,\n",
              "           17, 60128, 15235,    13,     7, 71585,    17,   232,  1051,     3,\n",
              "        12617,    48,    15, 30580,     5,     0,    68,    15, 38877,     0,\n",
              "           20,    15,     0, 71585,  5872,     0,   269,     0, 30580, 12617,\n",
              "           15,   116,    63,    34,     0,   346,    10,  1085,     0, 38877,\n",
              "           15,    36,   116,    63,    20, 20890,   117,   645,     0,    40,\n",
              "           22,     7, 13710,    42,    15,     6,     7, 36472,     0,    15,\n",
              "           70,  1096,     4, 36887,   163,    59,     0,   238,    66,     0,\n",
              "          362,  7309,   116,   192, 12611,   578,   103,     6,     0,  4906,\n",
              "            5,   420,    25,     0,  1661,    84,  4941, 14211,     0,   476,\n",
              "           10,    26,  6982,     5,    26,  2614,    15,     0,   219,     0,\n",
              "           61,     0,   242,     4,     0,     9,     0,   242,    10,    44,\n",
              "        24570,     0, 24570,    32, 14630,     5,    81,    86,   169,  1426,\n",
              "        14407,    22,     7,  5278,   626,     0,    86,   190,    29, 19916,\n",
              "          163,     5,    33,   101,    10,   168,     0,   128,   260,   234,\n",
              "          101,    10,    44, 13604,     5,     0,   462,    40,   109, 35443,\n",
              "           13,    44,  8458,    34,  1280,    13,     0, 22078,     0,     0,\n",
              "            0,     0,     0,     0,     0,     0,     0,     0,     0,     0,\n",
              "            0,     0,     0,     0,     0,     0,     0,     0,     0,     0,\n",
              "            0,     0,     0,     0,     0,     0,     0,     0,     0,     0,\n",
              "            0,     0,     0,     0,     0,     0,     0,     0,     0,     0,\n",
              "            0,     0,     0,     0,     0,     0,     0,     0,     0,     0,\n",
              "            0,     0,     0,     0,     0,     0,     0,     0,     0,     0,\n",
              "            0,     0,     0,     0,     0,     0,     0,     0,     0,     0,\n",
              "            0,     0,     0,     0,     0,     0,     0,     0,     0,     0,\n",
              "            0,     0,     0,     0,     0,     0,     0,     0,     0,     0,\n",
              "            0,     0,     0,     0,     0,     0,     0,     0,     0,     0,\n",
              "            0,     0,     0,     0,     0,     0,     0,     0,     0,     0,\n",
              "            0,     0,     0,     0,     0,     0,     0,     0,     0,     0,\n",
              "            0,     0,     0,     0,     0,     0,     0,     0,     0,     0,\n",
              "            0,     0,     0,     0,     0,     0,     0,     0,     0,     0,\n",
              "            0,     0,     0,     0,     0,     0,     0,     0,     0,     0,\n",
              "            0,     0,     0,     0,     0,     0,     0,     0,     0,     0,\n",
              "            0,     0,     0,     0,     0,     0,     0,     0,     0,     0,\n",
              "            0,     0,     0,     0,     0,     0,     0,     0,     0,     0,\n",
              "            0,     0,     0,     0,     0,     0,     0,     0,     0,     0,\n",
              "            0,     0,     0,     0,     0,     0,     0,     0,     0,     0,\n",
              "            0,     0,     0,     0,     0,     0,     0,     0,     0,     0,\n",
              "            0,     0,     0,     0,     0,     0,     0,     0,     0,     0,\n",
              "            0,     0,     0,     0,     0,     0,     0,     0,     0,     0,\n",
              "            0,     0,     0,     0,     0,     0,     0,     0,     0,     0,\n",
              "            0,     0,     0,     0,     0,     0,     0,     0,     0,     0,\n",
              "            0,     0,     0,     0,     0,     0,     0,     0,     0,     0,\n",
              "            0,     0,     0,     0,     0,     0,     0,     0,     0,     0,\n",
              "            0,     0,     0,     0,     0,     0,     0,     0,     0,     0,\n",
              "            0,     0,     0,     0,     0,     0,     0,     0,     0,     0,\n",
              "            0,     0,     0,     0,     0,     0,     0,     0,     0,     0,\n",
              "            0,     0,     0,     0,     0,     0,     0,     0,     0,     0,\n",
              "            0,     0,     0,     0,     0,     0,     0,     0,     0,     0,\n",
              "            0,     0,     0,     0,     0,     0,     0,     0,     0,     0,\n",
              "            0,     0,     0,     0,     0,     0,     0,     0,     0,     0,\n",
              "            0,     0,     0,     0,     0,     0,     0,     0,     0,     0,\n",
              "            0,     0,     0,     0,     0,     0,     0,     0,     0,     0,\n",
              "            0,     0,     0,     0,     0,     0,     0,     0,     0,     0,\n",
              "            0,     0,     0,     0,     0,     0,     0,     0,     0,     0,\n",
              "            0,     0,     0,     0,     0,     0,     0,     0,     0,     0,\n",
              "            0,     0,     0,     0,     0,     0,     0,     0,     0,     0,\n",
              "            0,     0,     0,     0,     0,     0,     0,     0,     0,     0,\n",
              "            0,     0,     0,     0,     0,     0,     0,     0,     0,     0,\n",
              "            0,     0,     0,     0,     0,     0,     0,     0,     0,     0,\n",
              "            0,     0,     0,     0,     0,     0,     0,     0,     0,     0,\n",
              "            0,     0,     0,     0,     0,     0,     0,     0,     0,     0,\n",
              "            0,     0,     0,     0,     0,     0,     0,     0,     0,     0,\n",
              "            0,     0,     0,     0,     0,     0,     0,     0,     0,     0,\n",
              "            0,     0,     0,     0,     0,     0,     0,     0,     0,     0,\n",
              "            0,     0,     0,     0,     0,     0,     0,     0,     0,     0,\n",
              "            0,     0,     0,     0,     0,     0,     0,     0,     0,     0,\n",
              "            0,     0,     0,     0,     0,     0,     0,     0,     0,     0,\n",
              "            0,     0,     0,     0,     0,     0,     0,     0,     0,     0,\n",
              "            0,     0,     0,     0,     0,     0,     0,     0,     0,     0,\n",
              "            0,     0,     0,     0], device='cuda:0')"
            ]
          },
          "metadata": {},
          "execution_count": 21
        }
      ]
    },
    {
      "cell_type": "code",
      "source": [
        "weights_glove.shape"
      ],
      "metadata": {
        "id": "T_w3qJa21iAw",
        "colab": {
          "base_uri": "https://localhost:8080/"
        },
        "outputId": "52fe1611-f40b-4755-83e9-2bc8fb288fa3"
      },
      "execution_count": 22,
      "outputs": [
        {
          "output_type": "execute_result",
          "data": {
            "text/plain": [
              "torch.Size([400000, 300])"
            ]
          },
          "metadata": {},
          "execution_count": 22
        }
      ]
    },
    {
      "cell_type": "code",
      "source": [
        "nn.Embedding.from_pretrained(weights_glove)(X_train)"
      ],
      "metadata": {
        "id": "IsSdzEIf1noU",
        "colab": {
          "base_uri": "https://localhost:8080/"
        },
        "outputId": "7742824f-7152-47d5-f0f4-9653c8aed7dd"
      },
      "execution_count": 23,
      "outputs": [
        {
          "output_type": "execute_result",
          "data": {
            "text/plain": [
              "tensor([[[ 0.0466,  0.2132, -0.0074,  ...,  0.0091, -0.2099,  0.0539],\n",
              "         [ 0.1825, -0.0466, -0.3471,  ...,  0.2344,  0.3991, -0.0146],\n",
              "         [ 0.0385, -0.0398,  0.0827,  ..., -0.3343,  0.0118,  0.0597],\n",
              "         ...,\n",
              "         [ 0.0466,  0.2132, -0.0074,  ...,  0.0091, -0.2099,  0.0539],\n",
              "         [ 0.0466,  0.2132, -0.0074,  ...,  0.0091, -0.2099,  0.0539],\n",
              "         [ 0.0466,  0.2132, -0.0074,  ...,  0.0091, -0.2099,  0.0539]],\n",
              "\n",
              "        [[ 0.0466,  0.2132, -0.0074,  ...,  0.0091, -0.2099,  0.0539],\n",
              "         [ 0.0466,  0.2132, -0.0074,  ...,  0.0091, -0.2099,  0.0539],\n",
              "         [-0.2044,  0.1643,  0.0418,  ..., -0.3401, -0.0771, -0.0841],\n",
              "         ...,\n",
              "         [ 0.0466,  0.2132, -0.0074,  ...,  0.0091, -0.2099,  0.0539],\n",
              "         [ 0.0466,  0.2132, -0.0074,  ...,  0.0091, -0.2099,  0.0539],\n",
              "         [ 0.0466,  0.2132, -0.0074,  ...,  0.0091, -0.2099,  0.0539]],\n",
              "\n",
              "        [[ 0.0466,  0.2132, -0.0074,  ...,  0.0091, -0.2099,  0.0539],\n",
              "         [-0.1067, -0.2527, -0.2965,  ..., -0.1745,  0.2636,  0.0103],\n",
              "         [-0.2413,  0.1206,  0.1919,  ..., -0.0632, -0.3284,  0.1551],\n",
              "         ...,\n",
              "         [ 0.0466,  0.2132, -0.0074,  ...,  0.0091, -0.2099,  0.0539],\n",
              "         [ 0.0466,  0.2132, -0.0074,  ...,  0.0091, -0.2099,  0.0539],\n",
              "         [ 0.0466,  0.2132, -0.0074,  ...,  0.0091, -0.2099,  0.0539]],\n",
              "\n",
              "        ...,\n",
              "\n",
              "        [[ 0.0466,  0.2132, -0.0074,  ...,  0.0091, -0.2099,  0.0539],\n",
              "         [-0.1684, -0.0377, -0.1730,  ..., -0.4998, -0.1708,  0.4643],\n",
              "         [ 0.0391,  0.3460,  0.1155,  ..., -0.2009,  0.3085, -0.2755],\n",
              "         ...,\n",
              "         [ 0.0466,  0.2132, -0.0074,  ...,  0.0091, -0.2099,  0.0539],\n",
              "         [ 0.0466,  0.2132, -0.0074,  ...,  0.0091, -0.2099,  0.0539],\n",
              "         [ 0.0466,  0.2132, -0.0074,  ...,  0.0091, -0.2099,  0.0539]],\n",
              "\n",
              "        [[ 0.0466,  0.2132, -0.0074,  ...,  0.0091, -0.2099,  0.0539],\n",
              "         [-0.3260,  0.2583, -0.3910,  ..., -0.5825, -0.3339, -0.0575],\n",
              "         [-0.2971,  0.0940, -0.0967,  ...,  0.0597, -0.2285,  0.2960],\n",
              "         ...,\n",
              "         [ 0.0466,  0.2132, -0.0074,  ...,  0.0091, -0.2099,  0.0539],\n",
              "         [ 0.0466,  0.2132, -0.0074,  ...,  0.0091, -0.2099,  0.0539],\n",
              "         [ 0.0466,  0.2132, -0.0074,  ...,  0.0091, -0.2099,  0.0539]],\n",
              "\n",
              "        [[ 0.0466,  0.2132, -0.0074,  ...,  0.0091, -0.2099,  0.0539],\n",
              "         [-0.0040, -0.2535, -0.2551,  ...,  0.0551, -0.0603,  0.4464],\n",
              "         [-0.2097,  0.1807, -0.1640,  ..., -0.3359, -0.0595, -0.2864],\n",
              "         ...,\n",
              "         [ 0.0466,  0.2132, -0.0074,  ...,  0.0091, -0.2099,  0.0539],\n",
              "         [ 0.0466,  0.2132, -0.0074,  ...,  0.0091, -0.2099,  0.0539],\n",
              "         [ 0.0466,  0.2132, -0.0074,  ...,  0.0091, -0.2099,  0.0539]]],\n",
              "       device='cuda:0')"
            ]
          },
          "metadata": {},
          "execution_count": 23
        }
      ]
    },
    {
      "cell_type": "code",
      "source": [
        "y_train_pred = SentimentPretrained(300, weights_glove).to(device)(X_train).to(device)\n",
        "y_train_pred.argmax(dim = 1)"
      ],
      "metadata": {
        "id": "lbKjRHJyWbTU",
        "colab": {
          "base_uri": "https://localhost:8080/"
        },
        "outputId": "c891c4fd-0a20-4458-aa54-66484c514c05"
      },
      "execution_count": 24,
      "outputs": [
        {
          "output_type": "execute_result",
          "data": {
            "text/plain": [
              "tensor([0, 0, 0, 0, 0, 0, 0, 0, 0, 0, 0, 0, 0, 0, 0, 0, 0, 0, 0, 0, 0, 0, 0, 0,\n",
              "        0, 0, 0, 0, 0, 0, 0, 0, 0, 0, 0, 0, 0, 0, 0, 0, 0, 0, 0, 0, 0, 0, 0, 0,\n",
              "        0, 0, 0, 0, 0, 0, 0, 0, 0, 0, 0, 0, 0, 0, 0, 0, 0, 0, 0, 0, 0, 0, 0, 0,\n",
              "        0, 0, 0, 0, 0, 0, 0, 0, 0, 0, 0, 0, 0, 0, 0, 0, 0, 0, 0, 0, 0, 0, 0, 0,\n",
              "        0, 0, 0, 0, 0, 0, 0, 0, 0, 0, 0, 0, 0, 0, 0, 0, 0, 0, 0, 0, 0, 0, 0, 0,\n",
              "        0, 0, 0, 0, 0, 0, 0, 0, 0, 0, 0, 0, 0, 0, 0, 0, 0, 0, 0, 0, 0, 0, 0, 0,\n",
              "        0, 0, 0, 0, 0, 0, 0, 0, 0, 0, 0, 0, 0, 0, 0, 0, 0, 0, 0, 0, 0, 0, 0, 0,\n",
              "        0, 0, 0, 0, 0, 0, 0, 0, 0, 0, 0, 0, 0, 0, 0, 0, 0, 0, 0, 0, 0, 0, 0, 0,\n",
              "        0, 0, 0, 0, 0, 0, 0, 0, 0, 0, 0, 0, 0, 0, 0, 0, 0, 0, 0, 0, 0, 0, 0, 0,\n",
              "        0, 0, 0, 0, 0, 0, 0, 0, 0, 0, 0, 0, 0, 0, 0, 0, 0, 0, 0, 0, 0, 0, 0, 0,\n",
              "        0, 0, 0, 0, 0, 0, 0, 0, 0, 0, 0, 0, 0, 0, 0, 0, 0, 0, 0, 0, 0, 0, 0, 0,\n",
              "        0, 0, 0, 0, 0, 0, 0, 0, 0, 0, 0, 0, 0, 0, 0, 0, 0, 0, 0, 0, 0, 0, 0, 0,\n",
              "        0, 0, 0, 0, 0, 0, 0, 0, 0, 0, 0, 0, 0, 0, 0, 0, 0, 0, 0, 0, 0, 0, 0, 0,\n",
              "        0, 0, 0, 0, 0, 0, 0, 0, 0, 0, 0, 0, 0, 0, 0, 0, 0, 0, 0, 0, 0, 0, 0, 0,\n",
              "        0, 0, 0, 0, 0, 0, 0, 0, 0, 0, 0, 0, 0, 0, 0, 0, 0, 0, 0, 0, 0, 0, 0, 0,\n",
              "        0, 0, 0, 0, 0, 0, 0, 0, 0, 0, 0, 0, 0, 0, 0, 0, 0, 0, 0, 0, 0, 0, 0, 0,\n",
              "        0, 0, 0, 0, 0, 0, 0, 0, 0, 0, 0, 0, 0, 0, 0, 0], device='cuda:0')"
            ]
          },
          "metadata": {},
          "execution_count": 24
        }
      ]
    },
    {
      "cell_type": "code",
      "source": [
        "y_train"
      ],
      "metadata": {
        "id": "uomVZzNAu1JE",
        "colab": {
          "base_uri": "https://localhost:8080/"
        },
        "outputId": "b4616942-dcd0-4b7f-a02a-a0d9946b1adb"
      },
      "execution_count": 25,
      "outputs": [
        {
          "output_type": "execute_result",
          "data": {
            "text/plain": [
              "tensor([1, 1, 1, 0, 1, 0, 1, 1, 1, 0, 1, 1, 1, 0, 0, 1, 1, 0, 1, 1, 0, 1, 1, 1,\n",
              "        1, 0, 1, 1, 0, 1, 1, 1, 1, 1, 1, 1, 1, 0, 1, 1, 1, 1, 1, 1, 1, 1, 0, 1,\n",
              "        1, 1, 1, 1, 0, 0, 1, 1, 1, 1, 1, 1, 1, 1, 1, 0, 1, 0, 1, 1, 0, 1, 0, 1,\n",
              "        1, 1, 1, 0, 1, 1, 1, 1, 1, 1, 1, 1, 1, 0, 0, 1, 1, 0, 1, 1, 1, 1, 1, 1,\n",
              "        1, 1, 1, 1, 1, 1, 0, 1, 1, 1, 1, 0, 1, 1, 0, 1, 1, 1, 1, 1, 0, 1, 1, 1,\n",
              "        1, 1, 1, 1, 1, 1, 1, 1, 1, 0, 1, 1, 1, 1, 1, 1, 1, 0, 1, 1, 1, 1, 1, 1,\n",
              "        1, 1, 1, 0, 1, 1, 1, 1, 1, 1, 0, 1, 1, 0, 1, 1, 1, 0, 1, 0, 1, 0, 1, 1,\n",
              "        0, 1, 1, 0, 1, 1, 0, 0, 1, 1, 0, 1, 1, 1, 1, 1, 1, 0, 0, 1, 1, 1, 0, 1,\n",
              "        1, 1, 1, 1, 1, 1, 1, 1, 1, 1, 1, 1, 0, 0, 0, 0, 1, 1, 1, 1, 1, 0, 0, 1,\n",
              "        0, 0, 1, 1, 1, 1, 1, 1, 1, 1, 1, 1, 0, 0, 1, 0, 1, 1, 1, 1, 0, 1, 0, 0,\n",
              "        0, 1, 1, 1, 1, 1, 1, 1, 1, 0, 1, 1, 1, 0, 1, 1, 1, 0, 1, 1, 1, 1, 1, 0,\n",
              "        1, 0, 1, 1, 1, 0, 1, 1, 1, 1, 1, 0, 1, 1, 1, 1, 0, 1, 1, 0, 1, 0, 1, 1,\n",
              "        1, 1, 1, 1, 0, 1, 0, 1, 1, 1, 1, 1, 0, 1, 1, 1, 0, 0, 1, 1, 1, 1, 1, 1,\n",
              "        1, 1, 1, 1, 1, 0, 1, 1, 1, 1, 1, 1, 1, 1, 1, 0, 1, 1, 1, 1, 0, 1, 1, 1,\n",
              "        1, 1, 1, 1, 1, 1, 1, 0, 1, 0, 1, 1, 1, 0, 1, 1, 1, 0, 1, 0, 1, 1, 1, 0,\n",
              "        0, 1, 1, 1, 1, 1, 1, 0, 0, 1, 1, 0, 1, 1, 0, 1, 1, 1, 1, 1, 1, 1, 1, 1,\n",
              "        1, 0, 1, 1, 1, 1, 1, 1, 1, 0, 1, 1, 1, 1, 1, 1], device='cuda:0')"
            ]
          },
          "metadata": {},
          "execution_count": 25
        }
      ]
    },
    {
      "cell_type": "code",
      "source": [
        "(y_train_pred.argmax(dim = 1) == y_train).sum()"
      ],
      "metadata": {
        "id": "1qnE5Aj0WfoX",
        "colab": {
          "base_uri": "https://localhost:8080/"
        },
        "outputId": "ad879d15-2d75-4e21-d305-808d78c0caee"
      },
      "execution_count": 26,
      "outputs": [
        {
          "output_type": "execute_result",
          "data": {
            "text/plain": [
              "tensor(87, device='cuda:0')"
            ]
          },
          "metadata": {},
          "execution_count": 26
        }
      ]
    },
    {
      "cell_type": "code",
      "source": [
        "metric(y_train_pred, y_train[:CORPUS_SIZE])"
      ],
      "metadata": {
        "id": "RMIbTz7mWm-v",
        "colab": {
          "base_uri": "https://localhost:8080/"
        },
        "outputId": "4f6d626d-3fcb-4b3c-8650-d790438fdfca"
      },
      "execution_count": 27,
      "outputs": [
        {
          "output_type": "execute_result",
          "data": {
            "text/plain": [
              "tensor(0.2175, device='cuda:0')"
            ]
          },
          "metadata": {},
          "execution_count": 27
        }
      ]
    },
    {
      "cell_type": "code",
      "source": [
        "del y_train_pred"
      ],
      "metadata": {
        "id": "JD4jGHO3YelM"
      },
      "execution_count": 28,
      "outputs": []
    },
    {
      "cell_type": "markdown",
      "source": [
        "## The training routine, training all 4 embeddings"
      ],
      "metadata": {
        "id": "ROXVUovhYRWG"
      }
    },
    {
      "cell_type": "code",
      "source": [
        "def train_model_with_embedding(weights, X_train, X_test, y_train, y_test, embedding_dimension=EMBEDDING_DIM):\n",
        "  model = SentimentPretrained(embedding_dimension, weights).to(device)\n",
        "  optimizer = torch.optim.AdamW(model.parameters())\n",
        "  epochs = 250\n",
        "  for i in range(epochs):\n",
        "    y_pred = model(X_train)\n",
        "    xe = loss(y_pred, y_train)\n",
        "    accuracy = metric(y_pred, y_train)\n",
        "    xe.backward()\n",
        "    if i % 50 == 0:\n",
        "      print(\"Loss: \", xe, \" Accuracy \", accuracy.data.item())\n",
        "    optimizer.step()\n",
        "    optimizer.zero_grad()\n",
        "  y_test_pred = model(X_test)\n",
        "  print(f'Model accuracy is {metric(y_test_pred, y_test)}')"
      ],
      "metadata": {
        "id": "U80Pu2e8X3Il"
      },
      "execution_count": 29,
      "outputs": []
    },
    {
      "cell_type": "code",
      "source": [
        "train_model_with_embedding(weights_glove, X_train, X_test, y_train, y_test)"
      ],
      "metadata": {
        "id": "4TZvNSfz8BNA",
        "colab": {
          "base_uri": "https://localhost:8080/"
        },
        "outputId": "ccfa7bf2-f6b7-4d04-eea0-537e769d1533"
      },
      "execution_count": 30,
      "outputs": [
        {
          "output_type": "stream",
          "name": "stdout",
          "text": [
            "Loss:  tensor(22.3060, device='cuda:0', grad_fn=<NllLossBackward0>)  Accuracy  0.7824999690055847\n",
            "Loss:  tensor(0.1174, device='cuda:0', grad_fn=<NllLossBackward0>)  Accuracy  0.9449999928474426\n",
            "Loss:  tensor(0.0401, device='cuda:0', grad_fn=<NllLossBackward0>)  Accuracy  0.9899999499320984\n",
            "Loss:  tensor(0.0282, device='cuda:0', grad_fn=<NllLossBackward0>)  Accuracy  0.9950000047683716\n",
            "Loss:  tensor(0.0215, device='cuda:0', grad_fn=<NllLossBackward0>)  Accuracy  0.9950000047683716\n",
            "Model accuracy is 0.9300000071525574\n"
          ]
        }
      ]
    },
    {
      "cell_type": "code",
      "source": [
        "del weights_glove\n",
        "torch.cuda.empty_cache()"
      ],
      "metadata": {
        "id": "OMHFPwO8FZXc"
      },
      "execution_count": 31,
      "outputs": []
    },
    {
      "cell_type": "code",
      "source": [
        "train_model_with_embedding(weights_fasttext, X_train, X_test, y_train, y_test)"
      ],
      "metadata": {
        "id": "lGul9Wcb8IN9",
        "colab": {
          "base_uri": "https://localhost:8080/"
        },
        "outputId": "2d7e3c89-e996-4cbe-ff58-fd8a70bc3083"
      },
      "execution_count": 32,
      "outputs": [
        {
          "output_type": "stream",
          "name": "stdout",
          "text": [
            "Loss:  tensor(51.8280, device='cuda:0', grad_fn=<NllLossBackward0>)  Accuracy  0.2175000011920929\n",
            "Loss:  tensor(0.0691, device='cuda:0', grad_fn=<NllLossBackward0>)  Accuracy  0.9724999666213989\n",
            "Loss:  tensor(0.0351, device='cuda:0', grad_fn=<NllLossBackward0>)  Accuracy  0.9925000071525574\n",
            "Loss:  tensor(0.0249, device='cuda:0', grad_fn=<NllLossBackward0>)  Accuracy  0.9950000047683716\n",
            "Loss:  tensor(0.0189, device='cuda:0', grad_fn=<NllLossBackward0>)  Accuracy  0.9950000047683716\n",
            "Model accuracy is 0.8700000047683716\n"
          ]
        }
      ]
    },
    {
      "cell_type": "code",
      "source": [
        "del weights_fasttext\n",
        "torch.cuda.empty_cache()"
      ],
      "metadata": {
        "id": "M8DdoRroFaU0"
      },
      "execution_count": 33,
      "outputs": []
    },
    {
      "cell_type": "markdown",
      "source": [
        "Now we will generate the train and test sets for the OHE and TFIdf"
      ],
      "metadata": {
        "id": "ONzX2HDA85Rm"
      }
    },
    {
      "cell_type": "code",
      "source": [
        "def get_tensor_reps_for_traditional_embeddings(klass):\n",
        "  X = yelp_best_worst.text\n",
        "  y = yelp_best_worst.stars.map({1:0, 5:1})\n",
        "  X_train, X_test, y_train, y_test = train_test_split(X, y, test_size = 0.2, random_state=42)\n",
        "  vect = klass(min_df=5, stop_words='english', strip_accents='ascii', analyzer='word', max_features=300)  # in order to compare similarly\n",
        "  X_train_dtm = vect.fit_transform(X_train)\n",
        "  X_test_dtm = vect.transform(X_test)\n",
        "  X_train_tensor = torch.Tensor(X_train_dtm.toarray()).to(device)\n",
        "  X_test_tensor = torch.Tensor(X_test_dtm.toarray()).to(device)\n",
        "  y_train = torch.Tensor(y_train.values).type(torch.LongTensor).to(device)\n",
        "  y_test = torch.Tensor(y_test.values).type(torch.LongTensor).to(device)\n",
        "  return vect, X_train_tensor, X_test_tensor, y_train, y_test"
      ],
      "metadata": {
        "id": "X93k9xbd82GV"
      },
      "execution_count": 38,
      "outputs": []
    },
    {
      "cell_type": "code",
      "source": [
        "vect_ohe, X_train_tensor_ohe, X_test_tensor_ohe, y_train, y_test = get_tensor_reps_for_traditional_embeddings(CountVectorizer)\n",
        "X_train_tensor_ohe = X_train_tensor_ohe.type(torch.LongTensor).to(device)\n",
        "X_test_tensor_ohe = X_test_tensor_ohe.type(torch.LongTensor).to(device)\n",
        "weights_ohe = torch.from_numpy(np.eye(len(vect_ohe.get_feature_names())))\n",
        "X_train_tensor_ohe.shape, X_test_tensor_ohe.shape, weights_ohe.shape"
      ],
      "metadata": {
        "id": "GHXM_os3_LKp",
        "colab": {
          "base_uri": "https://localhost:8080/"
        },
        "outputId": "d689f4f0-377a-4287-9fe4-bdea28d65c35"
      },
      "execution_count": 39,
      "outputs": [
        {
          "output_type": "execute_result",
          "data": {
            "text/plain": [
              "(torch.Size([400, 300]), torch.Size([100, 300]), torch.Size([300, 300]))"
            ]
          },
          "metadata": {},
          "execution_count": 39
        }
      ]
    },
    {
      "cell_type": "code",
      "source": [
        "train_model_with_embedding(weights_ohe, X_train_tensor_ohe, X_test_tensor_ohe, y_train, y_test)"
      ],
      "metadata": {
        "id": "FD-GwBa694La",
        "colab": {
          "base_uri": "https://localhost:8080/"
        },
        "outputId": "d785fac1-b24c-4d32-b2d4-e049a290b34e"
      },
      "execution_count": 40,
      "outputs": [
        {
          "output_type": "stream",
          "name": "stdout",
          "text": [
            "Loss:  tensor(0.6207, device='cuda:0', grad_fn=<NllLossBackward0>)  Accuracy  0.7874999642372131\n",
            "Loss:  tensor(0.5056, device='cuda:0', grad_fn=<NllLossBackward0>)  Accuracy  0.7849999666213989\n",
            "Loss:  tensor(0.5002, device='cuda:0', grad_fn=<NllLossBackward0>)  Accuracy  0.7899999618530273\n",
            "Loss:  tensor(0.4984, device='cuda:0', grad_fn=<NllLossBackward0>)  Accuracy  0.7899999618530273\n",
            "Loss:  tensor(0.4977, device='cuda:0', grad_fn=<NllLossBackward0>)  Accuracy  0.7899999618530273\n",
            "Model accuracy is 0.8299999833106995\n"
          ]
        }
      ]
    },
    {
      "cell_type": "code",
      "source": [
        "vect_tfidf, X_train_tensor_tfidf, X_test_tensor_tfidf, y_train, y_test = get_tensor_reps_for_traditional_embeddings(TfidfVectorizer)\n",
        "X_train_tensor_tfidf = X_train_tensor_tfidf.type(torch.LongTensor).to(device)\n",
        "X_test_tensor_tfidf = X_test_tensor_tfidf.type(torch.LongTensor).to(device)\n",
        "weights_tfidf = torch.from_numpy(np.eye(len(vect_tfidf.get_feature_names())))"
      ],
      "metadata": {
        "id": "2xN1PfeV_QtF"
      },
      "execution_count": 41,
      "outputs": []
    },
    {
      "cell_type": "code",
      "source": [
        "train_model_with_embedding(weights_tfidf, X_train_tensor_tfidf, X_test_tensor_tfidf, y_train, y_test)"
      ],
      "metadata": {
        "id": "3qxXmH_V_j4Z",
        "colab": {
          "base_uri": "https://localhost:8080/"
        },
        "outputId": "75621ffc-119b-4e09-fe49-259ed0c813bc"
      },
      "execution_count": 42,
      "outputs": [
        {
          "output_type": "stream",
          "name": "stdout",
          "text": [
            "Loss:  tensor(1.8317, device='cuda:0', grad_fn=<NllLossBackward0>)  Accuracy  0.7824999690055847\n",
            "Loss:  tensor(0.5255, device='cuda:0', grad_fn=<NllLossBackward0>)  Accuracy  0.7824999690055847\n",
            "Loss:  tensor(0.5236, device='cuda:0', grad_fn=<NllLossBackward0>)  Accuracy  0.7824999690055847\n",
            "Loss:  tensor(0.5236, device='cuda:0', grad_fn=<NllLossBackward0>)  Accuracy  0.7824999690055847\n",
            "Loss:  tensor(0.5236, device='cuda:0', grad_fn=<NllLossBackward0>)  Accuracy  0.7824999690055847\n",
            "Model accuracy is 0.8700000047683716\n"
          ]
        }
      ]
    },
    {
      "cell_type": "code",
      "source": [
        ""
      ],
      "metadata": {
        "id": "XAepjfYW4t-S"
      },
      "execution_count": null,
      "outputs": []
    }
  ]
}